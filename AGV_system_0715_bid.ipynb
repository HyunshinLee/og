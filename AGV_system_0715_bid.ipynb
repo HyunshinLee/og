{
 "cells": [
  {
   "cell_type": "markdown",
   "metadata": {},
   "source": [
    "# Import library"
   ]
  },
  {
   "cell_type": "code",
   "execution_count": 1,
   "metadata": {},
   "outputs": [],
   "source": [
    "import numpy as np\n",
    "import matplotlib.pyplot as plt\n",
    "import queue\n",
    "import random"
   ]
  },
  {
   "cell_type": "markdown",
   "metadata": {},
   "source": [
    "# Seed 고정"
   ]
  },
  {
   "cell_type": "code",
   "execution_count": 2,
   "metadata": {},
   "outputs": [],
   "source": [
    "np.random.seed(10)\n",
    "random.seed(10)"
   ]
  },
  {
   "cell_type": "markdown",
   "metadata": {},
   "source": [
    "# Create Job"
   ]
  },
  {
   "cell_type": "code",
   "execution_count": 3,
   "metadata": {},
   "outputs": [],
   "source": [
    "job_number  = 100"
   ]
  },
  {
   "cell_type": "code",
   "execution_count": 4,
   "metadata": {},
   "outputs": [
    {
     "name": "stdout",
     "output_type": "stream",
     "text": [
      "[13 11 10  7  6 13 12 15 10  9  9 11 11 13 15  5 10  7  8  8  8  9 13  9\n",
      " 13 10  4  8  8  8 14 14 11 11  8  8 10 10  8  8  4 11  8  8 12  3  5 14\n",
      "  7 10  6 11  7  7 15 11 11 11  6 12  9 10  5 11  7  8 12  9 11 11 12 10\n",
      " 10  6 10  5  5  4 11 11  8  9  9 10 19 14  7 10 13  8  9 14 11  9 10  8\n",
      " 13  7 11]\n",
      "[0, 13, 24, 34, 41, 47, 60, 72, 87, 97, 106, 115, 126, 137, 150, 165, 170, 180, 187, 195, 203, 211, 220, 233, 242, 255, 265, 269, 277, 285, 293, 307, 321, 332, 343, 351, 359, 369, 379, 387, 395, 399, 410, 418, 426, 438, 441, 446, 460, 467, 477, 483, 494, 501, 508, 523, 534, 545, 556, 562, 574, 583, 593, 598, 609, 616, 624, 636, 645, 656, 667, 679, 689, 699, 705, 715, 720, 725, 729, 740, 751, 759, 768, 777, 787, 806, 820, 827, 837, 850, 858, 867, 881, 892, 901, 911, 919, 932, 939, 950]\n"
     ]
    }
   ],
   "source": [
    "job_time_interval = np.random.poisson(10,job_number-1)\n",
    "job_create_time = [sum(job_time_interval[:i]) for i in range(len(job_time_interval)+1)]\n",
    "print(job_time_interval)\n",
    "print(job_create_time)"
   ]
  },
  {
   "cell_type": "code",
   "execution_count": 5,
   "metadata": {},
   "outputs": [
    {
     "data": {
      "image/png": "[encoded data removed]",
      "text/plain": [
       "<Figure size 432x288 with 1 Axes>"
      ]
     },
     "metadata": {
      "needs_background": "light"
     },
     "output_type": "display_data"
    }
   ],
   "source": [
    "count, bins, ignored = plt.hist(job_time_interval, 100, density = True)\n",
    "plt.show()"
   ]
  },
  {
   "cell_type": "code",
   "execution_count": 6,
   "metadata": {},
   "outputs": [
    {
     "data": {
      "image/png": "[encoded data removed]",
      "text/plain": [
       "<Figure size 432x288 with 1 Axes>"
      ]
     },
     "metadata": {
      "needs_background": "light"
     },
     "output_type": "display_data"
    }
   ],
   "source": [
    "plt.plot(job_create_time)\n",
    "plt.show()"
   ]
  },
  {
   "cell_type": "markdown",
   "metadata": {},
   "source": [
    "# Job Queue"
   ]
  },
  {
   "cell_type": "code",
   "execution_count": 7,
   "metadata": {},
   "outputs": [],
   "source": [
    "# class JobQueue(object):\n",
    "    \n",
    "#     def __init__(self):\n",
    "#         self.job_q = queue.Queue()\n",
    "#         self.job_number = 0\n",
    "        \n",
    "#     def insertJob(self, inout,  station_dest):\n",
    "#         job = {\"inout\": inout, \"station_dest\": station_dest}\n",
    "#         self.job_q.put(job)\n",
    "#         self.job_number+=1\n",
    "\n",
    "#     def getJob(self):\n",
    "#         if self.job_q.empty():\n",
    "#             return \n",
    "#         self.job_number-=1\n",
    "#         return self.job_q.get()"
   ]
  },
  {
   "cell_type": "code",
   "execution_count": 8,
   "metadata": {},
   "outputs": [],
   "source": [
    "def job_create(rack_location,total_job_location_list,time,total_job_information):\n",
    "    job_location = [random.choice(rack_location)]\n",
    "    if total_job_location_list.count(job_location)%2==0:\n",
    "        total_job_information['{}'.format(time)] = ['in',job_location]\n",
    "    else:\n",
    "        total_job_information['{}'.format(time)] = ['out',job_location]\n",
    "    total_job_location_list.append(job_location)\n",
    "    return total_job_information"
   ]
  },
  {
   "cell_type": "markdown",
   "metadata": {},
   "source": [
    "# AGV"
   ]
  },
  {
   "cell_type": "code",
   "execution_count": 172,
   "metadata": {},
   "outputs": [],
   "source": [
    "class AGV(object):\n",
    "    max_battery = 400\n",
    "    CHARGING_STATION = [(2,9),(6,9)]    \n",
    "    \n",
    "    def __init__(self,agv_id,current_location,job_list,graph,current_tick=0):\n",
    "        self.agv_id = agv_id\n",
    "        self.battery = self.max_battery\n",
    "        self.current_location = current_location\n",
    "        self.job = None\n",
    "        self.destination = None\n",
    "        self.available = True\n",
    "        self.current_tick = current_tick\n",
    "        self.to_chaging_station = False\n",
    "        self.charging = False\n",
    "        self.job_list = job_list\n",
    "        self.graph = graph\n",
    "\n",
    "#     def __str__(self):\n",
    "#         return 'agv_id:{}  job:{}  available:{}'.format(self.agv_id, self.job, self.available)\n",
    "    \n",
    "    def __str__(self):\n",
    "        return 'agv_id:{}'.format(self.agv_id)\n",
    "    \n",
    "    def move_one_tick(self):\n",
    "        if len(self.path) !=0:\n",
    "            self.next_location = self.path[0]\n",
    "            self.current_location = self.next_location\n",
    "            del self.path[0]\n",
    "            if len(self.path) ==0:\n",
    "                self.available = True\n",
    "            self.battery -=1\n",
    "            self.current_tick +=1\n",
    "        else:\n",
    "            self.available = True\n",
    "            \n",
    "    def move_one_tick_for_charge(self):\n",
    "        if len(self.path_for_charge) !=0:\n",
    "            self.to_chaging_station = True\n",
    "            self.next_location = self.path_for_charge[0]\n",
    "            self.current_location = self.next_location\n",
    "            del self.path_for_charge[0]\n",
    "            self.battery -=1\n",
    "            self.current_tick +=1\n",
    "            if len(self.path_for_charge) ==0:\n",
    "                self.to_chaging_station = False\n",
    "                self.charging = True\n",
    "                self.charging_agv()\n",
    "        else:\n",
    "            self.charging = True\n",
    "    \n",
    "    def get_job(self,job,astar_path):\n",
    "        self.job = job\n",
    "        self.path = astar_path\n",
    "        self.available = False\n",
    "        \n",
    "    def go_to_charge(self,astar_path_to_charger):\n",
    "        self.path_for_charge = astar_path_to_charger\n",
    "        self.to_chaging_station = True\n",
    "    \n",
    "    \n",
    "#     def agv_to_charging_station(self,battery_threshold):\n",
    "#         if self.available == True and self.battery <= battery_threshold:\n",
    "#             self.to_chaging_station = True\n",
    "\n",
    "    def calculate_cost(self,agv_id,job,warehouse,INPUT_STATION,OUTPUT_STATION):\n",
    "        if job['inout']=='in':\n",
    "            cost = len(astar(warehouse,agv.current_location,INPUT_STATION))\n",
    "        else:\n",
    "            cost = len(astar(warehouse,agv.current_location,Rack_enterence[job['station_dest']]))\n",
    "        return cost        \n",
    "    \n",
    "    def calculate_cost_for_charing_bid(self,warehouse,charging_station):\n",
    "        cost = len(astar(warehouse,self.current_location,charging_station))\n",
    "        return cost    \n",
    "    \n",
    "    def charging_agv(self):\n",
    "        if self.charging == True:\n",
    "            self.battery +=50\n",
    "            if self.battery >= self.max_battery:\n",
    "                self.battery = self.max_battery\n",
    "                self.charging = False \n",
    "                self.available=True\n",
    "                \n",
    "    def select_job(self):\n",
    "#         print(job_list)\n",
    "        distance = []\n",
    "        for job in job_list:\n",
    "            if job[0] == 'in':\n",
    "                distance.append(len(astar(warehouse,self.current_location,INPUT_STATION)+astar(warehouse,INPUT_STATION,Rack_enterence[job[1][0]])))\n",
    "            else:\n",
    "                distance.append(len(astar(warehouse,self.current_location,Rack_enterence[job[1][0]])+astar(warehouse,Rack_enterence[job[1][0]],OUTPUT_STATION)))\n",
    "        min_distance = min(distance)\n",
    "#         print(min_distance)\n",
    "        select_job_before_bid = job_list[distance.index(min_distance)]\n",
    "        return select_job_before_bid , min_distance\n",
    "        \n",
    "# 만약 distance가 같다면 먼저 온 순서대로 선택.\n",
    "#         print(distance)\n",
    "#         return select_job_before_bid\n",
    "                \n",
    "        \n",
    "#     def calculate_bid(self):\n",
    "    \n",
    "    def drop_job(self):\n",
    "        self.job = None\n",
    "        self.available = True\n",
    "        \n",
    "        "
   ]
  },
  {
   "cell_type": "code",
   "execution_count": 173,
   "metadata": {},
   "outputs": [],
   "source": [
    "def getAvailAGV(AGV_LIST,battery_threshold):\n",
    "    return [agv for agv in AGV_LIST if agv.available == True and agv.battery > battery_threshold]"
   ]
  },
  {
   "cell_type": "code",
   "execution_count": 174,
   "metadata": {},
   "outputs": [],
   "source": [
    "def getnNeedChargeAgv(AGV_LIST,battery_threshold):\n",
    "    return [agv for agv in AGV_LIST if agv.available == True and agv.battery <= battery_threshold and agv.charging == False and agv.to_chaging_station == False]"
   ]
  },
  {
   "cell_type": "code",
   "execution_count": 175,
   "metadata": {},
   "outputs": [
    {
     "name": "stdout",
     "output_type": "stream",
     "text": [
      "['in', [(1, 3)]]\n",
      "in\n",
      "(1, 3)\n",
      "['in', [(1, 4)]]\n",
      "in\n",
      "(1, 4)\n",
      "['out', [(1, 4)]]\n",
      "out\n",
      "(1, 4)\n"
     ]
    }
   ],
   "source": [
    "job_list1 = [['in', [(1, 3)]],['in', [(1, 4)]],['out', [(1, 4)]]]\n",
    "for job in job_list1:\n",
    "    print(job)\n",
    "    print(job[0])\n",
    "    print(job[1][0])"
   ]
  },
  {
   "cell_type": "code",
   "execution_count": 176,
   "metadata": {},
   "outputs": [],
   "source": [
    "agv1 = AGV(\"agv1\",(0,9),job_list1,warehouse)\n",
    "agv2 = AGV(\"agv2\",(1,5),job_list1,warehouse)"
   ]
  },
  {
   "cell_type": "code",
   "execution_count": 177,
   "metadata": {},
   "outputs": [
    {
     "data": {
      "text/plain": [
       "(0, 3)"
      ]
     },
     "execution_count": 177,
     "metadata": {},
     "output_type": "execute_result"
    }
   ],
   "source": [
    "Rack_enterence[(1,3)]"
   ]
  },
  {
   "cell_type": "code",
   "execution_count": 178,
   "metadata": {},
   "outputs": [
    {
     "name": "stdout",
     "output_type": "stream",
     "text": [
      "[(0, 9), (1, 9), (2, 9), (3, 9), (4, 9), (5, 9), (6, 9), (7, 9), (8, 9), (9, 9), (9, 8), (9, 7), (9, 6), (9, 5), (9, 4), (9, 3), (9, 2), (1, 2), (1, 3)]\n"
     ]
    }
   ],
   "source": [
    "print(astar(warehouse,agv1.current_location,Rack_enterence[job_list[0][1][0]])+[(1,2),(1,3)])"
   ]
  },
  {
   "cell_type": "code",
   "execution_count": 179,
   "metadata": {},
   "outputs": [
    {
     "name": "stdout",
     "output_type": "stream",
     "text": [
      "(['in', [(1, 3)]], 20)\n",
      "(['in', [(1, 3)]], 17)\n"
     ]
    }
   ],
   "source": [
    "print(agv1.select_job())\n",
    "print(agv2.select_job())"
   ]
  },
  {
   "cell_type": "code",
   "execution_count": 180,
   "metadata": {},
   "outputs": [
    {
     "data": {
      "text/plain": [
       "[<__main__.AGV at 0x14e3ec126a0>,\n",
       " <__main__.AGV at 0x14e3ec123d0>,\n",
       " <__main__.AGV at 0x14e3ec127c0>,\n",
       " <__main__.AGV at 0x14e3ec123a0>]"
      ]
     },
     "execution_count": 180,
     "metadata": {},
     "output_type": "execute_result"
    }
   ],
   "source": [
    "agv1 = AGV(\"agv1\",(0,9),job_list,warehouse)\n",
    "agv2 = AGV(\"agv2\",(3,9),job_list,warehouse)\n",
    "agv3 = AGV(\"agv3\",(6,9),job_list,warehouse)\n",
    "agv4 = AGV(\"agv4\",(9,9),job_list,warehouse)\n",
    "AGV_LIST = [agv1,agv2,agv3,agv4]\n",
    "AGV_LIST"
   ]
  },
  {
   "cell_type": "code",
   "execution_count": 181,
   "metadata": {},
   "outputs": [
    {
     "name": "stdout",
     "output_type": "stream",
     "text": [
      "[(0, 9), (1, 9), (2, 9), (3, 9), (4, 9), (5, 9), (6, 9), (7, 9), (8, 9), (9, 9), (9, 8), (9, 7), (9, 6), (9, 5), (9, 4), (9, 3), (9, 2)]\n"
     ]
    }
   ],
   "source": [
    "print(astar(warehouse,agv1.current_location,Rack_enterence[job_list[0][1][0]]))"
   ]
  },
  {
   "cell_type": "code",
   "execution_count": 186,
   "metadata": {},
   "outputs": [
    {
     "name": "stdout",
     "output_type": "stream",
     "text": [
      "[['in', [(8, 2)]]]\n",
      "@@\n",
      "{<__main__.AGV object at 0x0000014E3EC126A0>: (['in', [(8, 2)]], 22), <__main__.AGV object at 0x0000014E3EC123D0>: (['in', [(8, 2)]], 19), <__main__.AGV object at 0x0000014E3EC127C0>: (['in', [(8, 2)]], 22), <__main__.AGV object at 0x0000014E3EC123A0>: (['in', [(8, 2)]], 25)}\n"
     ]
    },
    {
     "ename": "AttributeError",
     "evalue": "'dict' object has no attribute 'sort'",
     "output_type": "error",
     "traceback": [
      "\u001b[1;31m---------------------------------------------------------------------------\u001b[0m",
      "\u001b[1;31mAttributeError\u001b[0m                            Traceback (most recent call last)",
      "\u001b[1;32m<ipython-input-186-311ee233d88b>\u001b[0m in \u001b[0;36m<module>\u001b[1;34m\u001b[0m\n\u001b[0;32m     17\u001b[0m                 \u001b[0mprint\u001b[0m\u001b[1;33m(\u001b[0m\u001b[0mselected_job\u001b[0m\u001b[1;33m)\u001b[0m\u001b[1;33m\u001b[0m\u001b[1;33m\u001b[0m\u001b[0m\n\u001b[0;32m     18\u001b[0m \u001b[1;31m#                 print('@@@@',sort(selected_job.items(), key = lambda x : x[1]))\u001b[0m\u001b[1;33m\u001b[0m\u001b[1;33m\u001b[0m\u001b[1;33m\u001b[0m\u001b[0m\n\u001b[1;32m---> 19\u001b[1;33m                 \u001b[0mprint\u001b[0m\u001b[1;33m(\u001b[0m\u001b[0mselected_job\u001b[0m\u001b[1;33m.\u001b[0m\u001b[0msort\u001b[0m\u001b[1;33m(\u001b[0m\u001b[0mkey\u001b[0m\u001b[1;33m=\u001b[0m\u001b[1;32mlambda\u001b[0m \u001b[0mx\u001b[0m\u001b[1;33m:\u001b[0m\u001b[0mx\u001b[0m\u001b[1;33m[\u001b[0m\u001b[1;36m1\u001b[0m\u001b[1;33m]\u001b[0m\u001b[1;33m)\u001b[0m\u001b[1;33m)\u001b[0m\u001b[1;33m\u001b[0m\u001b[1;33m\u001b[0m\u001b[0m\n\u001b[0m\u001b[0;32m     20\u001b[0m \u001b[1;33m\u001b[0m\u001b[0m\n",
      "\u001b[1;31mAttributeError\u001b[0m: 'dict' object has no attribute 'sort'"
     ]
    }
   ],
   "source": [
    "if __name__ == '__main__':\n",
    "    job_list = []\n",
    "    for running_time in range(run_time+1):\n",
    "        if running_time in job_create_time:\n",
    "#             print(\"@@\",running_time)\n",
    "            job_list.append(total_job_information.get('{}'.format(running_time)))\n",
    "            print(job_list)\n",
    "#             print(len(job_list))\n",
    "#             print('running time : {}, job_append : {}'.format(running_time,total_job_information.get('{}'.format(running_time))))\n",
    "            agv_avail = getAvailAGV(AGV_LIST, battery_threshold)\n",
    "#             print(agv_avail)\n",
    "            if len(agv_avail)!=0 and len(job_list)!=0:\n",
    "                print(\"@@\")\n",
    "                selected_job = {}\n",
    "                for agv in agv_avail:\n",
    "                    selected_job[agv]=agv.select_job()\n",
    "                print(selected_job)\n",
    "#                 print('@@@@',sort(selected_job.items(), key = lambda x : x[1]))\n",
    "                print(selected_job.sort(key=lambda x:x[1]))\n",
    "                "
   ]
  },
  {
   "cell_type": "code",
   "execution_count": 183,
   "metadata": {},
   "outputs": [
    {
     "name": "stdout",
     "output_type": "stream",
     "text": [
      "@@ 0\n",
      "[['in', [(8, 2)]]]\n",
      "[<__main__.AGV object at 0x0000014E3EC126A0>, <__main__.AGV object at 0x0000014E3EC123D0>, <__main__.AGV object at 0x0000014E3EC127C0>, <__main__.AGV object at 0x0000014E3EC123A0>]\n",
      "[(['in', [(8, 2)]], 22)]\n",
      "[(['in', [(8, 2)]], 22), (['in', [(8, 2)]], 19)]\n",
      "[(['in', [(8, 2)]], 22), (['in', [(8, 2)]], 19), (['in', [(8, 2)]], 22)]\n",
      "[(['in', [(8, 2)]], 22), (['in', [(8, 2)]], 19), (['in', [(8, 2)]], 22), (['in', [(8, 2)]], 25)]\n",
      "@@ 13\n",
      "[['in', [(8, 2)]], ['in', [(1, 3)]]]\n",
      "[<__main__.AGV object at 0x0000014E3EC126A0>, <__main__.AGV object at 0x0000014E3EC123D0>, <__main__.AGV object at 0x0000014E3EC127C0>, <__main__.AGV object at 0x0000014E3EC123A0>]\n",
      "[(['in', [(1, 3)]], 20)]\n",
      "[(['in', [(1, 3)]], 20), (['in', [(1, 3)]], 17)]\n",
      "[(['in', [(1, 3)]], 20), (['in', [(1, 3)]], 17), (['in', [(1, 3)]], 20)]\n",
      "[(['in', [(1, 3)]], 20), (['in', [(1, 3)]], 17), (['in', [(1, 3)]], 20), (['in', [(1, 3)]], 23)]\n"
     ]
    }
   ],
   "source": [
    "if __name__ == '__main__':\n",
    "    job_list = []\n",
    "    for running_time in range(run_time+1):\n",
    "        if running_time in job_create_time:\n",
    "            print(\"@@\",running_time)\n",
    "            job_list.append(total_job_information.get('{}'.format(running_time)))\n",
    "            print(job_list)\n",
    "#             print('running time : {}, job_append : {}'.format(running_time,total_job_information.get('{}'.format(running_time))))\n",
    "            agv_avail = getAvailAGV(AGV_LIST, battery_threshold)\n",
    "            print(agv_avail)\n",
    "            if len(agv_avail)!=0 and len(job_list)!=0:\n",
    "                selected_job = []\n",
    "                for agv in agv_avail:\n",
    "                    selected_job.append(agv.select_job())\n",
    "                    print(selected_job)"
   ]
  },
  {
   "cell_type": "code",
   "execution_count": null,
   "metadata": {},
   "outputs": [],
   "source": []
  },
  {
   "cell_type": "markdown",
   "metadata": {},
   "source": [
    "# Astar"
   ]
  },
  {
   "cell_type": "code",
   "execution_count": 28,
   "metadata": {},
   "outputs": [],
   "source": [
    "class node:\n",
    "    def __init__(self,parent=None, position = None):\n",
    "        self.parent = parent\n",
    "        self.position = position\n",
    "        self.g = 0\n",
    "        self.h = 0\n",
    "        self.f = 0\n",
    "    def __eq__(self,other):\n",
    "        return self.position == other.position"
   ]
  },
  {
   "cell_type": "code",
   "execution_count": 29,
   "metadata": {},
   "outputs": [],
   "source": [
    "def manhattan_distance(start_node,goal_node):\n",
    "    dx = abs(start_node[0]-goal_node[0])\n",
    "    dy = abs(start_node[1]-goal_node[1])\n",
    "    return dx + dy"
   ]
  },
  {
   "cell_type": "code",
   "execution_count": 30,
   "metadata": {},
   "outputs": [],
   "source": [
    "def astar(graph,start,goal):\n",
    "    start_node = node(None,(start[1],start[0]))\n",
    "    goal_node = node(None,(goal[1],goal[0]))\n",
    "    open_list = []\n",
    "    closed_list = []\n",
    "    graph = [el for el in graph][::-1]\n",
    "#     for i in graph:\n",
    "#         print(i)\n",
    "    \n",
    "    open_list.append(start_node)\n",
    "    while open_list:\n",
    "        current_node = open_list[0]\n",
    "        current_index = 0\n",
    "        \n",
    "        for index, item in enumerate(open_list):\n",
    "            if item.f < current_node.f:\n",
    "                current_node = item\n",
    "                current_index = index\n",
    "        open_list.pop(current_index)\n",
    "        closed_list.append(current_node)\n",
    "        \n",
    "        if current_node == goal_node:\n",
    "            path = []\n",
    "            current = current_node\n",
    "            while current is not None:\n",
    "#                 x,y = current.position\n",
    "#                 graph[x][y] = 9\n",
    "                path.append((current.position[1],current.position[0]))\n",
    "                current = current.parent\n",
    "                \n",
    "            return path[::-1]\n",
    "        \n",
    "        children = []\n",
    "        for new_position in [(0,1),(1,0),(-1,0),(0,-1)]:\n",
    "            node_position = (current_node.position[0]+new_position[0],\n",
    "                             current_node.position[1]+new_position[1])\n",
    "            within_range = [\n",
    "                node_position[1]>len(graph)-1,\n",
    "                node_position[1]<0,\n",
    "                node_position[0]>len(graph[len(graph)-1])-1,\n",
    "                node_position[0]<0]\n",
    "            if any(within_range):\n",
    "                continue\n",
    "            if graph[node_position[0]][node_position[1]] !=0:\n",
    "                continue\n",
    "            \n",
    "            new_node = node(current_node, node_position)\n",
    "            children.append(new_node)\n",
    "        \n",
    "        for child in children:\n",
    "            if child in closed_list:\n",
    "                continue\n",
    "            child.g = current_node.g+1\n",
    "            child.h = manhattan_distance(child.position,goal_node.position)\n",
    "            child.f = child.g + child.h\n",
    "            \n",
    "            if len([open_node for open_node in open_list\n",
    "                   if child == open_node and child.g>open_node.g]) > 0:\n",
    "                continue\n",
    "            open_list.append(child)"
   ]
  },
  {
   "cell_type": "markdown",
   "metadata": {},
   "source": [
    "# Warehouse, Rack, Charging_station"
   ]
  },
  {
   "cell_type": "code",
   "execution_count": 31,
   "metadata": {},
   "outputs": [],
   "source": [
    "def make_warehouse(row,col):\n",
    "    warehouse = [[0]*col for i in range(row)]\n",
    "    return warehouse "
   ]
  },
  {
   "cell_type": "code",
   "execution_count": 32,
   "metadata": {},
   "outputs": [],
   "source": [
    "def set_rack(warehouse,rack_location):\n",
    "    for idx, row in enumerate(warehouse):\n",
    "        warehouse[idx] =  [1 if (ix, ROW -1 - idx) in rack_location else 0 for ix,col in enumerate(warehouse[idx])]"
   ]
  },
  {
   "cell_type": "code",
   "execution_count": 33,
   "metadata": {},
   "outputs": [],
   "source": [
    "def get4Ways(point):\n",
    "    return [(point[0],point[1]+1), (point[0]+1,point[1]),\n",
    "            (point[0],point[1]-1), (point[0]-1,point[1])]"
   ]
  },
  {
   "cell_type": "code",
   "execution_count": 34,
   "metadata": {},
   "outputs": [],
   "source": [
    "def set_charging_station(warehouse,CHARGING_STATION,ROW,COL):\n",
    "    for charging_spot in CHARGING_STATION:\n",
    "        warehouse[ROW-1-charging_spot[1]][charging_spot[0]]=2\n",
    "    return warehouse"
   ]
  },
  {
   "cell_type": "markdown",
   "metadata": {},
   "source": [
    "# Make warehouse, Rack, Rack enterence, Station"
   ]
  },
  {
   "cell_type": "code",
   "execution_count": 35,
   "metadata": {},
   "outputs": [],
   "source": [
    "ROW, COL = 10,10\n",
    "warehouse = make_warehouse(ROW,COL)\n",
    "INPUT_STATION = (3,0)\n",
    "OUTPUT_STATION = (6,0)\n",
    "CHARGING_STATION = [(2,9),(7,9)]   \n",
    "rack_location =  [(1, 1), (1, 2), (1, 3), (1, 4), (1, 5), (1, 6), (1, 7),\n",
    "                  (2, 1), (2, 2), (2, 3), (2, 4), (2, 5), (2, 6), (2, 7), \n",
    "                  (4, 1), (4, 2), (4, 3), (4, 4), (4, 5), (4, 6), (4, 7), \n",
    "                  (5, 1), (5, 2), (5, 3), (5, 4), (5, 5), (5, 6), (5, 7), \n",
    "                  (7, 1), (7, 2), (7, 3), (7, 4), (7, 5), (7, 6), (7, 7), \n",
    "                  (8, 1), (8, 2), (8, 3), (8, 4), (8, 5), (8, 6), (8, 7)]\n"
   ]
  },
  {
   "cell_type": "code",
   "execution_count": 36,
   "metadata": {},
   "outputs": [],
   "source": [
    "set_rack(warehouse,rack_location)\n",
    "# set_charging_station(warehouse,CHARGING_STATION,ROW,COL)"
   ]
  },
  {
   "cell_type": "code",
   "execution_count": 37,
   "metadata": {},
   "outputs": [],
   "source": [
    "Rack_enterence={}\n",
    "for point in rack_location:\n",
    "    four_ways = get4Ways(point)\n",
    "    neighbour_obstacle_list = [way for way in four_ways if way in rack_location]  ## 좌표정보 ex) (1,3), (2,2)....\n",
    "    neighbour_empty_list = [way for way in four_ways if way not in rack_location] \n",
    "    if len(neighbour_empty_list) == 1: ### 모서리 아님\n",
    "        Rack_enterence[point] = neighbour_empty_list[0]\n",
    "    elif len(neighbour_empty_list) == 2: ### 모서리임\n",
    "        obstacle_way_list = [four_ways.index(obst) for obst in neighbour_obstacle_list]  ## 방향정보 ex) 0,1, 2...\n",
    "        for idx, obst_point in enumerate(neighbour_obstacle_list):\n",
    "            obst_way = obstacle_way_list[idx]\n",
    "            obst_plus1_point = get4Ways(obst_point)[obst_way]\n",
    "            if obst_plus1_point in rack_location:\n",
    "                continue\n",
    "            else:\n",
    "                Rack_enterence[point] = four_ways[obst_way-2]\n",
    "    else:\n",
    "        print('ERROR finding obstacle/entrance for RACK {}'.format(point))"
   ]
  },
  {
   "cell_type": "markdown",
   "metadata": {},
   "source": [
    "# 실험"
   ]
  },
  {
   "cell_type": "markdown",
   "metadata": {},
   "source": [
    "### Simulation condition"
   ]
  },
  {
   "cell_type": "code",
   "execution_count": 38,
   "metadata": {},
   "outputs": [],
   "source": [
    "# jobQ = JobQueue()\n",
    "# jobQ_for_simulation = JobQueue()\n",
    "run_time = 20\n",
    "total_job_location_list = []\n",
    "select_agv = []\n",
    "charging_agvs = []\n",
    "moving_for_charge_agvs = []\n",
    "battery_threshold = 100\n",
    "total_job_information = {}\n",
    "job_list = []"
   ]
  },
  {
   "cell_type": "markdown",
   "metadata": {},
   "source": [
    "### Create AGV"
   ]
  },
  {
   "cell_type": "code",
   "execution_count": 39,
   "metadata": {},
   "outputs": [
    {
     "data": {
      "text/plain": [
       "[<__main__.AGV at 0x14e3ec5d8b0>,\n",
       " <__main__.AGV at 0x14e3ec5db50>,\n",
       " <__main__.AGV at 0x14e3ec5d2e0>,\n",
       " <__main__.AGV at 0x14e3ec5dd00>]"
      ]
     },
     "execution_count": 39,
     "metadata": {},
     "output_type": "execute_result"
    }
   ],
   "source": [
    "agv1 = AGV(\"agv1\",(0,9),job_list,warehouse)\n",
    "agv2 = AGV(\"agv2\",(3,9),job_list,warehouse)\n",
    "agv3 = AGV(\"agv3\",(6,9),job_list,warehouse)\n",
    "agv4 = AGV(\"agv4\",(9,9),job_list,warehouse)\n",
    "AGV_LIST = [agv1,agv2,agv3,agv4]\n",
    "AGV_LIST"
   ]
  },
  {
   "cell_type": "markdown",
   "metadata": {},
   "source": [
    "### Created Job 확인"
   ]
  },
  {
   "cell_type": "code",
   "execution_count": 40,
   "metadata": {},
   "outputs": [
    {
     "name": "stdout",
     "output_type": "stream",
     "text": [
      "{'0': ['in', [(8, 2)]], '13': ['in', [(1, 3)]]}\n",
      "2\n"
     ]
    }
   ],
   "source": [
    "for time in range(run_time+1):\n",
    "    if time in job_create_time:\n",
    "        job_create(rack_location,total_job_location_list,time,total_job_information)\n",
    "print(total_job_information)\n",
    "print(len(total_job_information))"
   ]
  },
  {
   "cell_type": "markdown",
   "metadata": {},
   "source": [
    "### Main 함수 "
   ]
  },
  {
   "cell_type": "code",
   "execution_count": 41,
   "metadata": {},
   "outputs": [],
   "source": [
    "# if __name__ == '__main__':"
   ]
  },
  {
   "cell_type": "code",
   "execution_count": 42,
   "metadata": {},
   "outputs": [
    {
     "name": "stdout",
     "output_type": "stream",
     "text": [
      "@@ 0\n",
      "[['in', [(8, 2)]]]\n",
      "[<__main__.AGV object at 0x0000014E3EC5D8B0>, <__main__.AGV object at 0x0000014E3EC5DB50>, <__main__.AGV object at 0x0000014E3EC5D2E0>, <__main__.AGV object at 0x0000014E3EC5DD00>]\n",
      "[<bound method AGV.select_job of <__main__.AGV object at 0x0000014E3EC5D8B0>>, <bound method AGV.select_job of <__main__.AGV object at 0x0000014E3EC5DB50>>, <bound method AGV.select_job of <__main__.AGV object at 0x0000014E3EC5D2E0>>, <bound method AGV.select_job of <__main__.AGV object at 0x0000014E3EC5DD00>>]\n",
      "@@ 13\n",
      "[['in', [(8, 2)]], ['in', [(1, 3)]]]\n",
      "[<__main__.AGV object at 0x0000014E3EC5D8B0>, <__main__.AGV object at 0x0000014E3EC5DB50>, <__main__.AGV object at 0x0000014E3EC5D2E0>, <__main__.AGV object at 0x0000014E3EC5DD00>]\n",
      "[<bound method AGV.select_job of <__main__.AGV object at 0x0000014E3EC5D8B0>>, <bound method AGV.select_job of <__main__.AGV object at 0x0000014E3EC5DB50>>, <bound method AGV.select_job of <__main__.AGV object at 0x0000014E3EC5D2E0>>, <bound method AGV.select_job of <__main__.AGV object at 0x0000014E3EC5DD00>>]\n"
     ]
    }
   ],
   "source": [
    "if __name__ == '__main__':\n",
    "    job_list = []\n",
    "    for running_time in range(run_time+1):\n",
    "        if running_time in job_create_time:\n",
    "            print(\"@@\",running_time)\n",
    "            job_list.append(total_job_information.get('{}'.format(running_time)))\n",
    "            print(job_list)\n",
    "#             print('running time : {}, job_append : {}'.format(running_time,total_job_information.get('{}'.format(running_time))))\n",
    "            agv_avail = getAvailAGV(AGV_LIST, battery_threshold)\n",
    "            print(agv_avail)\n",
    "            if len(agv_avail)!=0 and len(job_list)!=0:\n",
    "                selected_job = []\n",
    "                for agv in agv_avail:\n",
    "                    selected_job.append(agv.select_job)\n",
    "                print(selected_job)"
   ]
  },
  {
   "cell_type": "code",
   "execution_count": 43,
   "metadata": {},
   "outputs": [
    {
     "name": "stdout",
     "output_type": "stream",
     "text": [
      "[['in', [(8, 2)]], ['in', [(1, 3)]]]\n"
     ]
    }
   ],
   "source": [
    "print(job_list)"
   ]
  },
  {
   "cell_type": "code",
   "execution_count": 44,
   "metadata": {},
   "outputs": [
    {
     "name": "stdout",
     "output_type": "stream",
     "text": [
      "A time : 0, There is no new AGVs for charge\n",
      "@@@@@@@@@@@@@@@@@ 0\n"
     ]
    },
    {
     "ename": "NameError",
     "evalue": "name 'jobQ' is not defined",
     "output_type": "error",
     "traceback": [
      "\u001b[1;31m---------------------------------------------------------------------------\u001b[0m",
      "\u001b[1;31mNameError\u001b[0m                                 Traceback (most recent call last)",
      "\u001b[1;32m<ipython-input-44-40367bbf6137>\u001b[0m in \u001b[0;36m<module>\u001b[1;34m\u001b[0m\n\u001b[0;32m     27\u001b[0m         \u001b[1;32mif\u001b[0m \u001b[0mrunning_time\u001b[0m \u001b[1;32min\u001b[0m \u001b[0mjob_create_time\u001b[0m\u001b[1;33m:\u001b[0m\u001b[1;33m\u001b[0m\u001b[1;33m\u001b[0m\u001b[0m\n\u001b[0;32m     28\u001b[0m             \u001b[0mprint\u001b[0m\u001b[1;33m(\u001b[0m\u001b[1;34m\"@@@@@@@@@@@@@@@@@\"\u001b[0m\u001b[1;33m,\u001b[0m\u001b[0mrunning_time\u001b[0m\u001b[1;33m)\u001b[0m\u001b[1;33m\u001b[0m\u001b[1;33m\u001b[0m\u001b[0m\n\u001b[1;32m---> 29\u001b[1;33m             \u001b[0mjobQ\u001b[0m\u001b[1;33m.\u001b[0m\u001b[0minsertJob\u001b[0m\u001b[1;33m(\u001b[0m\u001b[0mtotal_job_information\u001b[0m\u001b[1;33m.\u001b[0m\u001b[0mget\u001b[0m\u001b[1;33m(\u001b[0m\u001b[1;34m'{}'\u001b[0m\u001b[1;33m.\u001b[0m\u001b[0mformat\u001b[0m\u001b[1;33m(\u001b[0m\u001b[0mrunning_time\u001b[0m\u001b[1;33m)\u001b[0m\u001b[1;33m)\u001b[0m\u001b[1;33m[\u001b[0m\u001b[1;36m0\u001b[0m\u001b[1;33m]\u001b[0m\u001b[1;33m,\u001b[0m\u001b[0mtotal_job_information\u001b[0m\u001b[1;33m.\u001b[0m\u001b[0mget\u001b[0m\u001b[1;33m(\u001b[0m\u001b[1;34m'{}'\u001b[0m\u001b[1;33m.\u001b[0m\u001b[0mformat\u001b[0m\u001b[1;33m(\u001b[0m\u001b[0mrunning_time\u001b[0m\u001b[1;33m)\u001b[0m\u001b[1;33m)\u001b[0m\u001b[1;33m[\u001b[0m\u001b[1;36m1\u001b[0m\u001b[1;33m]\u001b[0m\u001b[1;33m[\u001b[0m\u001b[1;36m0\u001b[0m\u001b[1;33m]\u001b[0m\u001b[1;33m)\u001b[0m\u001b[1;33m\u001b[0m\u001b[1;33m\u001b[0m\u001b[0m\n\u001b[0m\u001b[0;32m     30\u001b[0m             \u001b[0magv_avail\u001b[0m \u001b[1;33m=\u001b[0m \u001b[0mgetAvailAGV\u001b[0m\u001b[1;33m(\u001b[0m\u001b[0mAGV_LIST\u001b[0m\u001b[1;33m,\u001b[0m\u001b[0mbattery_threshold\u001b[0m\u001b[1;33m)\u001b[0m\u001b[1;33m\u001b[0m\u001b[1;33m\u001b[0m\u001b[0m\n\u001b[0;32m     31\u001b[0m             \u001b[0mprint\u001b[0m\u001b[1;33m(\u001b[0m\u001b[1;34m'C running_time : {} , agv_avail : {}'\u001b[0m\u001b[1;33m.\u001b[0m\u001b[0mformat\u001b[0m\u001b[1;33m(\u001b[0m\u001b[0mrunning_time\u001b[0m\u001b[1;33m,\u001b[0m\u001b[0magv_avail\u001b[0m\u001b[1;33m)\u001b[0m\u001b[1;33m)\u001b[0m\u001b[1;33m\u001b[0m\u001b[1;33m\u001b[0m\u001b[0m\n",
      "\u001b[1;31mNameError\u001b[0m: name 'jobQ' is not defined"
     ]
    }
   ],
   "source": [
    "if __name__ == '__main__':\n",
    "    for running_time in range(run_time+1):\n",
    "        if len(moving_for_charge_agvs)!=0:\n",
    "            for moving_agvs in moving_for_charge_agvs:\n",
    "                moving_agvs.move_one_tick_for_charge()\n",
    "                print(\"running time : {}, moving agv for charging : {}, current location : {}\".format(running_time, moving_agvs,moving_agvs.current_location))\n",
    "                if moving_agvs.charging == True:\n",
    "                    moving_for_charge_agvs.remove(moving_agvs)\n",
    "\n",
    "        agv_need_charge = getnNeedChargeAgv(AGV_LIST,battery_threshold) \n",
    "        if len(agv_need_charge)==0:\n",
    "            print('A time : {}, There is no new AGVs for charge'.format(running_time))\n",
    "        else:\n",
    "            print('B There is new AGVs for charging {}'.format(agv_need_charge))          \n",
    "            for agv_for_charge in agv_need_charge:\n",
    "                bid_for_charge_list = []\n",
    "                for charger in CHARGING_STATION:\n",
    "                    bid_for_charge_list.append(agv_for_charge.calculate_cost_for_charing_bid(warehouse,charger))\n",
    "                min_charger_bid = min(bid_for_charge_list)\n",
    "                target_charger = CHARGING_STATION[bid_for_charge_list.index(min_charger_bid)]\n",
    "                astar_path_to_charger = astar(warehouse,agv_for_charge.current_location,target_charger)\n",
    "                agv_for_charge.go_to_charge(astar_path_to_charger)\n",
    "                moving_for_charge_agvs.append(agv_for_charge)      \n",
    "    #         print(\"###\",moving_for_charge_agvs)\n",
    "\n",
    "    #       #사용가능한 agv와 job이 있을때 \n",
    "        if running_time in job_create_time:\n",
    "            print(\"@@@@@@@@@@@@@@@@@\",running_time)\n",
    "            jobQ.insertJob(total_job_information.get('{}'.format(running_time))[0],total_job_information.get('{}'.format(running_time))[1][0])\n",
    "            agv_avail = getAvailAGV(AGV_LIST,battery_threshold)\n",
    "            print('C running_time : {} , agv_avail : {}'.format(running_time,agv_avail))\n",
    "            if len(agv_avail)!=0 and jobQ.job_number !=0:\n",
    "                if running_time ==0 or len(select_agv)==0:\n",
    "                    auctioneer = random.choice(agv_avail)\n",
    "                else:\n",
    "                    auctioneer = select_agv[-1]\n",
    "                job = jobQ.getJob()\n",
    "                bid_list = []\n",
    "                for agv in agv_avail:\n",
    "                    bid_list.append(agv.calculate_cost(agv,job,warehouse,INPUT_STATION,OUTPUT_STATION))\n",
    "                min_bid = min(bid_list)\n",
    "                target_agv = agv_avail[bid_list.index(min_bid)]\n",
    "                if job['inout']=='in':\n",
    "                    astar_path = astar(warehouse,target_agv.current_location,INPUT_STATION)+astar(warehouse,INPUT_STATION,Rack_enterence[job['station_dest']])\n",
    "                else:\n",
    "                    astar_path = astar(warehouse,target_agv.current_location,Rack_enterence[job['station_dest']])+astar(warehouse,Rack_enterence[job['station_dest']],OUTPUT_STATION)\n",
    "                target_agv.get_job(job,astar_path)\n",
    "                select_agv.append(target_agv)\n",
    "                print(\"D running_time : {}, target_agv : {}, target_agv.battery: {}, destination : {}, astar_path : {}, available:{}\".format(running_time,target_agv,target_agv.battery,job['station_dest'],astar_path,target_agv.available))\n",
    "        #           print(auctioneer)\n",
    "                for moving_agv in set(select_agv):\n",
    "                    moving_agv.move_one_tick()\n",
    "                    if len(moving_agv.path)==0:\n",
    "                        select_agv.remove(moving_agv)\n",
    "                    print(\"E time : {}, moving agv : {}, battery : {}, current location : {}\".format(running_time,moving_agv,moving_agv.battery,moving_agv.current_location))\n",
    "            else:\n",
    "                for moving_agv in select_agv:\n",
    "                    moving_agv.move_one_tick()\n",
    "                    if len(moving_agv.path)==0:\n",
    "                        select_agv.remove(moving_agv)\n",
    "                    print(\"F\",running_time,moving_agv,moving_agv.battery,moving_agv.current_location)            \n",
    "\n",
    "\n",
    "    # #         elif len(agv_avail) == 0 and jobQ.job_number = 0  # move one tick \n",
    "    # #         elif len(agv_avail) == 0 and jobQ.job_number !=0  # move one tick \n",
    "    # #         elif len(agv_avail) !=0 and jobQ.job_number = 0   # move one tick \n",
    "\n",
    "        else:\n",
    "            agv_avail = getAvailAGV(AGV_LIST,battery_threshold)\n",
    "            if len(agv_avail)!=0 and jobQ.job_number !=0:\n",
    "                job = jobQ.getJob()\n",
    "                bid_list = []\n",
    "                for agv in agv_avail:\n",
    "                    bid_list.append(agv.calculate_cost(agv,job,warehouse,INPUT_STATION,OUTPUT_STATION))\n",
    "                min_bid = min(bid_list)\n",
    "                target_agv = agv_avail[bid_list.index(min_bid)]\n",
    "                if job['inout']=='in':\n",
    "                    astar_path = astar(warehouse,target_agv.current_location,INPUT_STATION)+astar(warehouse,INPUT_STATION,Rack_enterence[job['station_dest']])\n",
    "                else:\n",
    "                    astar_path = astar(warehouse,target_agv.current_location,Rack_enterence[job['station_dest']])+astar(warehouse,Rack_enterence[job['station_dest']],OUTPUT_STATION)\n",
    "                target_agv.get_job(job,astar_path)\n",
    "                select_agv.append(target_agv)\n",
    "                print(\"G running_time : {}, target_agv : {}, target_agv.battery: {}, destination : {}, astar_path : {}, available:{}\".format(running_time,target_agv,target_agv.battery,job['station_dest'],astar_path,target_agv.available))\n",
    "                for moving_agvs in set(select_agv):\n",
    "                    moving_agvs.move_one_tick()\n",
    "                    print(\"H running time : {} ,moving agvs : {} ,agv battery : {}, moving agv location : {}, agv available{}\".format(running_time,moving_agvs, moving_agvs.battery, moving_agvs.current_location, moving_agvs.available))\n",
    "                    if len(moving_agvs.path) ==0:\n",
    "                        select_agv.remove(moving_agvs)\n",
    "        #             print(\"@@@@\",moving_agvs,moving_agv.battery,moving_agv.current_location)\n",
    "\n",
    "            else:\n",
    "                for moving_agvs in set(select_agv):\n",
    "                    moving_agvs.move_one_tick()\n",
    "                    print(\"I running time : {} ,moving agvs : {} ,agv battery : {}, moving agv location : {}, agv available{}\".format(running_time,moving_agvs, moving_agvs.battery, moving_agvs.current_location, moving_agvs.available))\n",
    "                    if len(moving_agvs.path) ==0:\n",
    "                        select_agv.remove(moving_agvs)       "
   ]
  },
  {
   "cell_type": "code",
   "execution_count": 45,
   "metadata": {},
   "outputs": [],
   "source": [
    "a = 1\n",
    "b = [0,1,2,3]"
   ]
  },
  {
   "cell_type": "code",
   "execution_count": 46,
   "metadata": {},
   "outputs": [],
   "source": [
    "class akk:\n",
    "    def __init__(self,a,b):\n",
    "        self.b = b\n",
    "        self.a = a\n",
    "        \n",
    "    def google():\n",
    "        b.append('c')\n",
    "    def __str__(self):\n",
    "        return \"b:{}\".format(b)"
   ]
  },
  {
   "cell_type": "code",
   "execution_count": 47,
   "metadata": {},
   "outputs": [],
   "source": [
    "bb = akk(a,b)"
   ]
  },
  {
   "cell_type": "code",
   "execution_count": 48,
   "metadata": {},
   "outputs": [
    {
     "ename": "TypeError",
     "evalue": "google() takes 0 positional arguments but 1 was given",
     "output_type": "error",
     "traceback": [
      "\u001b[1;31m---------------------------------------------------------------------------\u001b[0m",
      "\u001b[1;31mTypeError\u001b[0m                                 Traceback (most recent call last)",
      "\u001b[1;32m<ipython-input-48-765077c61570>\u001b[0m in \u001b[0;36m<module>\u001b[1;34m\u001b[0m\n\u001b[1;32m----> 1\u001b[1;33m \u001b[0mbb\u001b[0m\u001b[1;33m.\u001b[0m\u001b[0mgoogle\u001b[0m\u001b[1;33m(\u001b[0m\u001b[1;33m)\u001b[0m\u001b[1;33m\u001b[0m\u001b[1;33m\u001b[0m\u001b[0m\n\u001b[0m",
      "\u001b[1;31mTypeError\u001b[0m: google() takes 0 positional arguments but 1 was given"
     ]
    }
   ],
   "source": [
    "bb.google()"
   ]
  },
  {
   "cell_type": "code",
   "execution_count": 49,
   "metadata": {},
   "outputs": [],
   "source": [
    "k = {'1':(1,1),'2':(2,2)}"
   ]
  },
  {
   "cell_type": "code",
   "execution_count": 50,
   "metadata": {},
   "outputs": [
    {
     "name": "stdout",
     "output_type": "stream",
     "text": [
      "2\n"
     ]
    }
   ],
   "source": [
    "print(len(k))"
   ]
  },
  {
   "cell_type": "code",
   "execution_count": null,
   "metadata": {},
   "outputs": [],
   "source": []
  },
  {
   "cell_type": "code",
   "execution_count": null,
   "metadata": {},
   "outputs": [],
   "source": []
  }
 ],
 "metadata": {
  "kernelspec": {
   "display_name": "Python 3",
   "language": "python",
   "name": "python3"
  },
  "language_info": {
   "codemirror_mode": {
    "name": "ipython",
    "version": 3
   },
   "file_extension": ".py",
   "mimetype": "text/x-python",
   "name": "python",
   "nbconvert_exporter": "python",
   "pygments_lexer": "ipython3",
   "version": "3.8.8"
  }
 },
 "nbformat": 4,
 "nbformat_minor": 4
}
